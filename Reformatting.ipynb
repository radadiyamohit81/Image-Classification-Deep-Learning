{
 "cells": [
  {
   "cell_type": "code",
   "execution_count": 28,
   "metadata": {},
   "outputs": [],
   "source": [
    "# image name changing\n",
    "import os\n",
    "path = \"dataset/train/toys/\"\n",
    "file_type = \"jpg\"\n",
    "\n",
    "for i, filename in enumerate(os.listdir(path)):\n",
    "    os.rename(path + filename, path + str(i) + \".\" + file_type)"
   ]
  },
  {
   "cell_type": "code",
   "execution_count": 1,
   "metadata": {},
   "outputs": [],
   "source": [
    "import os\n",
    "import pandas as pd"
   ]
  },
  {
   "cell_type": "code",
   "execution_count": 2,
   "metadata": {},
   "outputs": [],
   "source": [
    "path = []\n",
    "category = []\n",
    "\n",
    "for dirname, _, filenames in os.walk('train'):\n",
    "    for filename in filenames:\n",
    "        dir_n = os.path.split(dirname)[1]\n",
    "        #print(filename)\n",
    "        img_p = 'train/' + dir_n + '/' + filename\n",
    "        #print(img_p)\n",
    "        path.append(img_p)\n",
    "        split = os.path.split(img_p)[0]\n",
    "        category.append(os.path.split(split)[1])\n",
    "        #print(category)\n",
    "train_df = pd.DataFrame(list(zip(path,category)), columns=['path','category'])\n",
    "train_df.to_csv('train.csv', index = False)"
   ]
  },
  {
   "cell_type": "code",
   "execution_count": 3,
   "metadata": {},
   "outputs": [],
   "source": [
    "path = []\n",
    "\n",
    "for dirname, _, filenames in os.walk('test'):\n",
    "    for filename in filenames:\n",
    "        dir_n = os.path.split(dirname)[1]\n",
    "        #print(filename)\n",
    "        img_p = 'test/'+ filename\n",
    "        #print(img_p)\n",
    "        path.append(img_p)\n",
    "train_df = pd.DataFrame(path, columns=['path'])\n",
    "train_df.to_csv('test.csv', index = False)"
   ]
  },
  {
   "cell_type": "code",
   "execution_count": 20,
   "metadata": {},
   "outputs": [],
   "source": []
  }
 ],
 "metadata": {
  "kernelspec": {
   "display_name": "Python 3",
   "language": "python",
   "name": "python3"
  },
  "language_info": {
   "codemirror_mode": {
    "name": "ipython",
    "version": 3
   },
   "file_extension": ".py",
   "mimetype": "text/x-python",
   "name": "python",
   "nbconvert_exporter": "python",
   "pygments_lexer": "ipython3",
   "version": "3.6.5"
  }
 },
 "nbformat": 4,
 "nbformat_minor": 2
}
