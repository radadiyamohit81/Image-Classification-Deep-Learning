{
 "cells": [
  {
   "cell_type": "code",
   "execution_count": null,
   "metadata": {
    "_cell_guid": "11426fb4-35ac-475c-b09f-15b1f4d8a985",
    "_uuid": "d459da55-20d9-4f99-a408-34db59ad1502"
   },
   "outputs": [],
   "source": [
    "import os\n",
    "import numpy as np \n",
    "import pandas as pd\n",
    "\n",
    "import shutil\n",
    "from fastai import *\n",
    "from fastai.vision import *\n",
    "from fastai.callbacks.hooks import *\n",
    "\n",
    "from pathlib import Path\n",
    "from sklearn.model_selection import StratifiedKFold\n",
    "from sklearn.metrics import f1_score\n",
    "\n",
    "import warnings\n",
    "warnings.filterwarnings('ignore')\n",
    "\n",
    "path= '../input/rethink-us/Rethink_UX'\n",
    "k= '../input/rethink-us/Rethink_UX/train.csv'\n",
    "p ='../input/rethink-us/Rethink_UX/test.csv'"
   ]
  },
  {
   "cell_type": "code",
   "execution_count": null,
   "metadata": {
    "_cell_guid": "6fd857a7-de23-494a-8790-74c27abd6470",
    "_uuid": "d31d6aac-e272-4fb9-82d5-eb5cf9444ef9"
   },
   "outputs": [],
   "source": [
    "train=pd.read_csv(k)\n",
    "test=pd.read_csv(p)\n",
    "train.head(5),test.head(5)"
   ]
  },
  {
   "cell_type": "code",
   "execution_count": null,
   "metadata": {
    "_cell_guid": "fe1b851b-8148-4c9c-8445-6d717f6302be",
    "_uuid": "14b815c8-19d4-4c93-8565-cd68de67776c"
   },
   "outputs": [],
   "source": [
    "np.random.seed(1786)\n",
    "ROOT = \"/tmp/data\""
   ]
  },
  {
   "cell_type": "code",
   "execution_count": null,
   "metadata": {
    "_cell_guid": "e85d863a-04e5-47cd-9383-4a0a1a3fd292",
    "_uuid": "fc3fc936-338f-4730-90da-96bcd23596c1"
   },
   "outputs": [],
   "source": [
    "def read_data(root):\n",
    "    train_df = pd.read_csv(k)\n",
    "    test_df = pd.read_csv(p)\n",
    "    return train_df, test_df"
   ]
  },
  {
   "cell_type": "code",
   "execution_count": null,
   "metadata": {
    "_cell_guid": "58c10ca8-e18b-4363-8cd2-e7d88ac97a3b",
    "_uuid": "5c383a25-b6dd-47d1-9243-e3e9d4791cc0"
   },
   "outputs": [],
   "source": [
    "class SaveBestModel(Recorder):\n",
    "    def __init__(self, learn,name='best_model'):\n",
    "        super().__init__(learn)\n",
    "        self.name = name\n",
    "        self.best_loss = None\n",
    "        self.best_acc = None\n",
    "        self.save_method = self.save_when_acc\n",
    "        \n",
    "    def save_when_acc(self, metrics):        \n",
    "        loss, acc = metrics[0], metrics[1]\n",
    "        if (self.best_acc is None) or (acc > self.best_acc) or (loss < self.best_loss):\n",
    "            self.best_acc = acc\n",
    "            self.best_loss = loss\n",
    "            self.learn.save(f'{self.name}')\n",
    "            print(\"Save the best acc {:.5f}\".format(self.best_acc))\n",
    "        elif acc == self.best_acc and  loss < self.best_loss:\n",
    "            self.best_loss = loss\n",
    "            self.learn.save(f'{self.name}')\n",
    "            print(\"Acc is eq,Save the lower loss {:.5f}\".format(self.best_loss))\n",
    "            \n",
    "    def on_epoch_end(self,last_metrics=MetricsList,**kwargs:Any):\n",
    "        self.save_method(last_metrics)"
   ]
  },
  {
   "cell_type": "code",
   "execution_count": null,
   "metadata": {
    "_cell_guid": "1e6323ce-e875-4ab7-a094-cdac55fa4342",
    "_uuid": "06828e63-61bc-45af-ab14-f885cfe171b7"
   },
   "outputs": [],
   "source": [
    "#Path(ROOT).mkdir(exist_ok=True, parents=True)\n",
    "src1 = \"../input/rethink-us/Rethink_UX\"\n",
    "shutil.copytree(src1, ROOT)"
   ]
  },
  {
   "cell_type": "code",
   "execution_count": null,
   "metadata": {
    "_cell_guid": "01a29abc-b527-44f0-8106-4c049b718fc8",
    "_uuid": "03b881fc-f693-40ad-a556-5bf405e6e132"
   },
   "outputs": [],
   "source": [
    "if __name__==\"__main__\":\n",
    "    train_df, test_df = read_data(ROOT)\n",
    "    print(train_df.shape, test_df.shape)\n",
    "    \n",
    "    cvlist = list(StratifiedKFold(16, random_state=12345786).split(train_df, train_df.category))\n",
    "    tfms1 = get_transforms(do_flip=True, flip_vert=True, max_rotate=.0, max_zoom=2.0)\n",
    "    #tfms1 = get_transforms(flip_vert=False, max_zoom=1.5, max_warp=0, do_flip=False, xtra_tfms=[cutout()])\n",
    "    #tfms1 = get_transforms(max_zoom=2.0)\n",
    "    test_preds_all = []\n",
    "    val_preds_all = []\n",
    "    for i in range(10):\n",
    "        print(\"Starting fold {}\".format(i))\n",
    "        tr_idx, val_idx = cvlist[i]\n",
    "        \n",
    "        print(tr_idx.shape, val_idx.shape)\n",
    "        src = (ImageList.from_df(train_df, path=ROOT).split_by_idxs(tr_idx, val_idx)\n",
    "                                                            .label_from_df())\n",
    "        data = ImageDataBunch.create_from_ll(src, ds_tfms=tfms1, size=256, bs=32, resize_method=3).normalize(imagenet_stats)\n",
    "        data.add_test(ImageList.from_df(test_df, path=ROOT))\n",
    "        learn = cnn_learner(data, models.densenet201 , metrics=accuracy, ps=0.5)\n",
    "        cb = SaveBestModel(learn, name=\"bestmodel_{}\".format(i))\n",
    "        learn.fit_one_cycle(4)\n",
    "        learn.unfreeze()\n",
    "        learn.fit_one_cycle(10, max_lr=1e-4, callbacks=[cb])\n",
    "        learn.fit_one_cycle(10, max_lr=5e-5, callbacks=[cb])\n",
    "        learn.fit_one_cycle(10, max_lr=1e-5, callbacks=[cb])\n",
    "        learn.fit_one_cycle(10, max_lr=5e-6, callbacks=[cb])\n",
    "        learn.fit_one_cycle(4, max_lr=1e-6, callbacks=[cb])\n",
    "        learn.load(\"bestmodel_{}\".format(i))\n",
    "        val_preds, y = learn.TTA(ds_type=DatasetType.Valid)\n",
    "        val_preds = np.exp(val_preds.numpy())\n",
    "        print(\"F1 score for this fold \",f1_score(y.numpy(), np.argmax(val_preds,axis=1), average='weighted'))\n",
    "        test_preds = np.exp(learn.TTA(ds_type=DatasetType.Test)[0].numpy())\n",
    "        test_preds_all.append(test_preds)\n",
    "        val_preds_all.append(val_preds)\n",
    "        fname = \"bestmodel_{}.pth\".format(i)\n",
    "        src = str(Path(ROOT) / \"models\" / fname)\n",
    "        shutil.copy(src, fname)\n",
    "    test_preds_all = np.mean(test_preds_all, axis=0)\n",
    "    val_preds_all = np.concatenate(val_preds_all, axis=0)\n",
    "\n",
    "    np.save(\"test_preds.npy\", test_preds_all)\n",
    "    np.save(\"val_preds.npy\", val_preds_all)"
   ]
  },
  {
   "cell_type": "code",
   "execution_count": null,
   "metadata": {
    "_cell_guid": "451d97f3-3a1c-4fbe-b071-6c3267b8ead1",
    "_uuid": "1c00c8b4-8ef3-4463-9617-2845868327ef"
   },
   "outputs": [],
   "source": [
    "l = len(test_df.path)\n",
    "img = []\n",
    "for i in range(l):\n",
    "    path = test_df.path[i]\n",
    "    img.append(os.path.split(path)[1])\n",
    "\n",
    "df = pd.DataFrame(img,columns=['Filename'])\n",
    "df[\"Labels\"] = np.argmax(test_preds, axis=1)"
   ]
  },
  {
   "cell_type": "code",
   "execution_count": null,
   "metadata": {
    "_cell_guid": "5ad6ec86-c606-4830-b985-587aaf83e70d",
    "_uuid": "d92d6db0-4dee-444b-aca8-80cb9b8fdf2c"
   },
   "outputs": [],
   "source": [
    "y=[]\n",
    "for i in df['Labels']:\n",
    "    y.append(val[i])\n",
    "df['Labels']=y\n",
    "\n",
    "df.head(2)"
   ]
  },
  {
   "cell_type": "code",
   "execution_count": null,
   "metadata": {
    "_cell_guid": "0de585e1-66d9-4b98-8d87-ea80c9a2e1a4",
    "_uuid": "dc72392d-4fca-49d4-b506-2ef955b96e77"
   },
   "outputs": [],
   "source": [
    "df.to_csv(\"submission.csv\", index=False)"
   ]
  }
 ],
 "metadata": {
  "kernelspec": {
   "display_name": "Python 3",
   "language": "python",
   "name": "python3"
  },
  "language_info": {
   "codemirror_mode": {
    "name": "ipython",
    "version": 3
   },
   "file_extension": ".py",
   "mimetype": "text/x-python",
   "name": "python",
   "nbconvert_exporter": "python",
   "pygments_lexer": "ipython3",
   "version": "3.6.2"
  }
 },
 "nbformat": 4,
 "nbformat_minor": 4
}
